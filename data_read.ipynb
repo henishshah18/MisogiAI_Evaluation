{
 "cells": [
  {
   "cell_type": "code",
   "execution_count": 4,
   "metadata": {},
   "outputs": [],
   "source": [
    "import pandas as pd"
   ]
  },
  {
   "cell_type": "code",
   "execution_count": 5,
   "metadata": {},
   "outputs": [],
   "source": [
    "df1 = pd.read_csv('program_summary.csv')"
   ]
  },
  {
   "cell_type": "code",
   "execution_count": 6,
   "metadata": {},
   "outputs": [
    {
     "data": {
      "text/plain": [
       "Index(['title', 'description', 'level', 'goal', 'equipment', 'program_length',\n",
       "       'time_per_workout', 'total_exercises', 'created', 'last_edit'],\n",
       "      dtype='object')"
      ]
     },
     "execution_count": 6,
     "metadata": {},
     "output_type": "execute_result"
    }
   ],
   "source": [
    "df1.columns"
   ]
  },
  {
   "cell_type": "code",
   "execution_count": 9,
   "metadata": {},
   "outputs": [
    {
     "data": {
      "text/plain": [
       "Index(['title', 'description', 'level', 'goal', 'equipment', 'program_length',\n",
       "       'time_per_workout', 'week', 'day', 'number_of_exercises',\n",
       "       'exercise_name', 'sets', 'reps', 'intensity', 'created', 'last_edit'],\n",
       "      dtype='object')"
      ]
     },
     "execution_count": 9,
     "metadata": {},
     "output_type": "execute_result"
    }
   ],
   "source": [
    "df2 = pd.read_csv('/Users/henishshah/python_projects/MisogiAI/Evaluation/programs_detailed_boostcamp_kaggle.csv')\n",
    "df2.columns"
   ]
  },
  {
   "cell_type": "code",
   "execution_count": 10,
   "metadata": {},
   "outputs": [
    {
     "data": {
      "text/html": [
       "<div>\n",
       "<style scoped>\n",
       "    .dataframe tbody tr th:only-of-type {\n",
       "        vertical-align: middle;\n",
       "    }\n",
       "\n",
       "    .dataframe tbody tr th {\n",
       "        vertical-align: top;\n",
       "    }\n",
       "\n",
       "    .dataframe thead th {\n",
       "        text-align: right;\n",
       "    }\n",
       "</style>\n",
       "<table border=\"1\" class=\"dataframe\">\n",
       "  <thead>\n",
       "    <tr style=\"text-align: right;\">\n",
       "      <th></th>\n",
       "      <th>title</th>\n",
       "      <th>description</th>\n",
       "      <th>level</th>\n",
       "      <th>goal</th>\n",
       "      <th>equipment</th>\n",
       "      <th>program_length</th>\n",
       "      <th>time_per_workout</th>\n",
       "      <th>week</th>\n",
       "      <th>day</th>\n",
       "      <th>number_of_exercises</th>\n",
       "      <th>exercise_name</th>\n",
       "      <th>sets</th>\n",
       "      <th>reps</th>\n",
       "      <th>intensity</th>\n",
       "      <th>created</th>\n",
       "      <th>last_edit</th>\n",
       "    </tr>\n",
       "  </thead>\n",
       "  <tbody>\n",
       "    <tr>\n",
       "      <th>0</th>\n",
       "      <td>Weightlifting Mobility program</td>\n",
       "      <td>This program is designed to help athletes succ...</td>\n",
       "      <td>['Beginner', 'Novice', 'Intermediate', 'Advanc...</td>\n",
       "      <td>['Olympic Weightlifting', 'Muscle &amp; Sculpting'...</td>\n",
       "      <td>Garage Gym</td>\n",
       "      <td>7.0</td>\n",
       "      <td>50.0</td>\n",
       "      <td>1.0</td>\n",
       "      <td>1.0</td>\n",
       "      <td>16.0</td>\n",
       "      <td>Knee-to-wall ankle dorsiflexion test</td>\n",
       "      <td>3.0</td>\n",
       "      <td>-180.0</td>\n",
       "      <td>6.0</td>\n",
       "      <td>2025-03-09 04:11:00</td>\n",
       "      <td>2025-06-23 03:31:00</td>\n",
       "    </tr>\n",
       "    <tr>\n",
       "      <th>1</th>\n",
       "      <td>Weightlifting Mobility program</td>\n",
       "      <td>This program is designed to help athletes succ...</td>\n",
       "      <td>['Beginner', 'Novice', 'Intermediate', 'Advanc...</td>\n",
       "      <td>['Olympic Weightlifting', 'Muscle &amp; Sculpting'...</td>\n",
       "      <td>Garage Gym</td>\n",
       "      <td>7.0</td>\n",
       "      <td>50.0</td>\n",
       "      <td>1.0</td>\n",
       "      <td>1.0</td>\n",
       "      <td>16.0</td>\n",
       "      <td>Banded ankle distractions</td>\n",
       "      <td>3.0</td>\n",
       "      <td>-18.0</td>\n",
       "      <td>6.0</td>\n",
       "      <td>2025-03-09 04:11:00</td>\n",
       "      <td>2025-06-23 03:31:00</td>\n",
       "    </tr>\n",
       "    <tr>\n",
       "      <th>2</th>\n",
       "      <td>Weightlifting Mobility program</td>\n",
       "      <td>This program is designed to help athletes succ...</td>\n",
       "      <td>['Beginner', 'Novice', 'Intermediate', 'Advanc...</td>\n",
       "      <td>['Olympic Weightlifting', 'Muscle &amp; Sculpting'...</td>\n",
       "      <td>Garage Gym</td>\n",
       "      <td>7.0</td>\n",
       "      <td>50.0</td>\n",
       "      <td>1.0</td>\n",
       "      <td>1.0</td>\n",
       "      <td>16.0</td>\n",
       "      <td>Slant board calf stretch</td>\n",
       "      <td>3.0</td>\n",
       "      <td>-18.0</td>\n",
       "      <td>6.0</td>\n",
       "      <td>2025-03-09 04:11:00</td>\n",
       "      <td>2025-06-23 03:31:00</td>\n",
       "    </tr>\n",
       "    <tr>\n",
       "      <th>3</th>\n",
       "      <td>Weightlifting Mobility program</td>\n",
       "      <td>This program is designed to help athletes succ...</td>\n",
       "      <td>['Beginner', 'Novice', 'Intermediate', 'Advanc...</td>\n",
       "      <td>['Olympic Weightlifting', 'Muscle &amp; Sculpting'...</td>\n",
       "      <td>Garage Gym</td>\n",
       "      <td>7.0</td>\n",
       "      <td>50.0</td>\n",
       "      <td>1.0</td>\n",
       "      <td>1.0</td>\n",
       "      <td>16.0</td>\n",
       "      <td>Seated Tibialis Raise</td>\n",
       "      <td>3.0</td>\n",
       "      <td>15.0</td>\n",
       "      <td>6.0</td>\n",
       "      <td>2025-03-09 04:11:00</td>\n",
       "      <td>2025-06-23 03:31:00</td>\n",
       "    </tr>\n",
       "    <tr>\n",
       "      <th>4</th>\n",
       "      <td>Weightlifting Mobility program</td>\n",
       "      <td>This program is designed to help athletes succ...</td>\n",
       "      <td>['Beginner', 'Novice', 'Intermediate', 'Advanc...</td>\n",
       "      <td>['Olympic Weightlifting', 'Muscle &amp; Sculpting'...</td>\n",
       "      <td>Garage Gym</td>\n",
       "      <td>7.0</td>\n",
       "      <td>50.0</td>\n",
       "      <td>1.0</td>\n",
       "      <td>1.0</td>\n",
       "      <td>16.0</td>\n",
       "      <td>90/90 Hip Rotations</td>\n",
       "      <td>3.0</td>\n",
       "      <td>8.0</td>\n",
       "      <td>6.0</td>\n",
       "      <td>2025-03-09 04:11:00</td>\n",
       "      <td>2025-06-23 03:31:00</td>\n",
       "    </tr>\n",
       "  </tbody>\n",
       "</table>\n",
       "</div>"
      ],
      "text/plain": [
       "                            title  \\\n",
       "0  Weightlifting Mobility program   \n",
       "1  Weightlifting Mobility program   \n",
       "2  Weightlifting Mobility program   \n",
       "3  Weightlifting Mobility program   \n",
       "4  Weightlifting Mobility program   \n",
       "\n",
       "                                         description  \\\n",
       "0  This program is designed to help athletes succ...   \n",
       "1  This program is designed to help athletes succ...   \n",
       "2  This program is designed to help athletes succ...   \n",
       "3  This program is designed to help athletes succ...   \n",
       "4  This program is designed to help athletes succ...   \n",
       "\n",
       "                                               level  \\\n",
       "0  ['Beginner', 'Novice', 'Intermediate', 'Advanc...   \n",
       "1  ['Beginner', 'Novice', 'Intermediate', 'Advanc...   \n",
       "2  ['Beginner', 'Novice', 'Intermediate', 'Advanc...   \n",
       "3  ['Beginner', 'Novice', 'Intermediate', 'Advanc...   \n",
       "4  ['Beginner', 'Novice', 'Intermediate', 'Advanc...   \n",
       "\n",
       "                                                goal   equipment  \\\n",
       "0  ['Olympic Weightlifting', 'Muscle & Sculpting'...  Garage Gym   \n",
       "1  ['Olympic Weightlifting', 'Muscle & Sculpting'...  Garage Gym   \n",
       "2  ['Olympic Weightlifting', 'Muscle & Sculpting'...  Garage Gym   \n",
       "3  ['Olympic Weightlifting', 'Muscle & Sculpting'...  Garage Gym   \n",
       "4  ['Olympic Weightlifting', 'Muscle & Sculpting'...  Garage Gym   \n",
       "\n",
       "   program_length  time_per_workout  week  day  number_of_exercises  \\\n",
       "0             7.0              50.0   1.0  1.0                 16.0   \n",
       "1             7.0              50.0   1.0  1.0                 16.0   \n",
       "2             7.0              50.0   1.0  1.0                 16.0   \n",
       "3             7.0              50.0   1.0  1.0                 16.0   \n",
       "4             7.0              50.0   1.0  1.0                 16.0   \n",
       "\n",
       "                          exercise_name  sets   reps  intensity  \\\n",
       "0  Knee-to-wall ankle dorsiflexion test   3.0 -180.0        6.0   \n",
       "1             Banded ankle distractions   3.0  -18.0        6.0   \n",
       "2              Slant board calf stretch   3.0  -18.0        6.0   \n",
       "3                 Seated Tibialis Raise   3.0   15.0        6.0   \n",
       "4                   90/90 Hip Rotations   3.0    8.0        6.0   \n",
       "\n",
       "               created            last_edit  \n",
       "0  2025-03-09 04:11:00  2025-06-23 03:31:00  \n",
       "1  2025-03-09 04:11:00  2025-06-23 03:31:00  \n",
       "2  2025-03-09 04:11:00  2025-06-23 03:31:00  \n",
       "3  2025-03-09 04:11:00  2025-06-23 03:31:00  \n",
       "4  2025-03-09 04:11:00  2025-06-23 03:31:00  "
      ]
     },
     "execution_count": 10,
     "metadata": {},
     "output_type": "execute_result"
    }
   ],
   "source": [
    "df2.head()"
   ]
  },
  {
   "cell_type": "code",
   "execution_count": 14,
   "metadata": {},
   "outputs": [
    {
     "data": {
      "text/plain": [
       "title                   object\n",
       "description             object\n",
       "level                   object\n",
       "goal                    object\n",
       "equipment               object\n",
       "program_length         float64\n",
       "time_per_workout       float64\n",
       "week                   float64\n",
       "day                    float64\n",
       "number_of_exercises    float64\n",
       "exercise_name           object\n",
       "sets                   float64\n",
       "reps                   float64\n",
       "intensity              float64\n",
       "created                 object\n",
       "last_edit               object\n",
       "dtype: object"
      ]
     },
     "execution_count": 14,
     "metadata": {},
     "output_type": "execute_result"
    }
   ],
   "source": [
    "df2.dtypes"
   ]
  },
  {
   "cell_type": "code",
   "execution_count": null,
   "metadata": {},
   "outputs": [],
   "source": []
  },
  {
   "cell_type": "code",
   "execution_count": 37,
   "metadata": {},
   "outputs": [],
   "source": [
    "exercise_df = pd.read_csv('./datadump/exercise.csv')"
   ]
  },
  {
   "cell_type": "code",
   "execution_count": 17,
   "metadata": {},
   "outputs": [],
   "source": [
    "exercise_df.columns\n",
    "exercise_df.drop(columns=['Unnamed: 0','Rating', 'RatingDesc'],inplace=True)"
   ]
  },
  {
   "cell_type": "code",
   "execution_count": 25,
   "metadata": {},
   "outputs": [
    {
     "data": {
      "text/plain": [
       "(2918, 6)"
      ]
     },
     "execution_count": 25,
     "metadata": {},
     "output_type": "execute_result"
    }
   ],
   "source": [
    "exercise_df.shape"
   ]
  },
  {
   "cell_type": "code",
   "execution_count": 26,
   "metadata": {},
   "outputs": [],
   "source": [
    "exercise_df.dropna(axis=0, inplace=True)"
   ]
  },
  {
   "cell_type": "code",
   "execution_count": 27,
   "metadata": {},
   "outputs": [],
   "source": [
    "# Exercise Database: 100+ exercises with detailed descriptions, proper form, and variations\n",
    "rag_dict = exercise_df.to_dict('index')"
   ]
  },
  {
   "cell_type": "code",
   "execution_count": 28,
   "metadata": {},
   "outputs": [],
   "source": [
    "import os\n",
    "import json\n",
    "\n",
    "with open('rag_data.json', 'w') as f:\n",
    "    json.dump(rag_dict, f)"
   ]
  },
  {
   "cell_type": "code",
   "execution_count": 36,
   "metadata": {},
   "outputs": [],
   "source": [
    "with open('rag_test.md', 'w') as f:\n",
    "    for k,v in rag_dict.items():\n",
    "        f.write(f'Title:{v[\"Title\"]}\\n')\n",
    "        f.write(f'Description:{v[\"Desc\"]}\\n')\n",
    "        f.write(f'Type:{v[\"Type\"]}\\n')\n",
    "        f.write(f'BodyPart:{v[\"BodyPart\"]}\\n')\n",
    "        f.write(f'Equipment:{v[\"Equipment\"]}\\n')\n",
    "        f.write(f'Level:{v[\"Level\"]}\\n')\n",
    "        f.write('\\n\\n')\n"
   ]
  },
  {
   "cell_type": "code",
   "execution_count": null,
   "metadata": {},
   "outputs": [],
   "source": []
  }
 ],
 "metadata": {
  "language_info": {
   "name": "python"
  }
 },
 "nbformat": 4,
 "nbformat_minor": 2
}
